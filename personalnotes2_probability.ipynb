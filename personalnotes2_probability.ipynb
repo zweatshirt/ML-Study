{
 "cells": [
  {
   "cell_type": "markdown",
   "metadata": {},
   "source": [
    "# Probability notes\n",
    "\n",
    " ### Conditional probability:\n",
    " If two events depend on each other, what's the probability both will occur?\n",
    " Equation: P(B | A) = P(A and B) / P(A)\n",
    " i.e. probability of B given that A has occurred\n",
    " P(A intersect B): probability of A and B both occurring \n",
    " \n",
    " ### Partition theorem / law of total probability:\n",
    " P(A) = sum (P(A and Bi) ) = sum( P(A | Bi) * P(Bi) )\n",
    "\n",
    "### Bayes theorem\n",
    "Bayes Theorem can be written as such:\n",
    "Given hypothesis, H, and event, E, the likelihood of H given E is: P(H | E) = ( P(E | H) * P(H) ) / P(E)\n",
    " "
   ]
  },
  {
   "cell_type": "markdown",
   "metadata": {},
   "source": [
    "Question from http://www.ams.sunysb.edu/~jsbm/courses/311/conditioning.pdf\n",
    "\n",
    "Two cards from an ordinary deck of 52 cards are missing.\n",
    "What is the probability that a random card drawn from this deck is a spade?\n",
    "\n",
    "3 possibilities: 1 of the missing cards is a spade, both missing cards are spades,\n",
    "or neither are spades"
   ]
  },
  {
   "cell_type": "code",
   "execution_count": 4,
   "metadata": {},
   "outputs": [
    {
     "data": {
      "text/plain": [
       "0.25"
      ]
     },
     "execution_count": 4,
     "metadata": {},
     "output_type": "execute_result"
    }
   ],
   "source": [
    "import random\n",
    "\n",
    "def factorial(n):\n",
    "    if n > 1:\n",
    "        return n * factorial(n - 1)\n",
    "    else: return n\n",
    "\n",
    "def C(n, r): # n is size of set, r is how many we are choosing\n",
    "    numerator = factorial(n)\n",
    "    denom = factorial(r) * factorial(n - r)\n",
    "    return numerator / denom\n",
    "\n",
    "two_cards_selected = C(52, 2)\n",
    "\n",
    "both_spades = C(13, 2)\n",
    "prob_both = both_spades / two_cards_selected\n",
    "\n",
    "neither_spades = C(39, 2)\n",
    "prob_neither = neither_spades / two_cards_selected\n",
    "\n",
    "one_spade_out_of_two = C(13, 1) * C(39, 1)\n",
    "prob_one = one_spade_out_of_two / two_cards_selected\n",
    "\n",
    "# we can see there's a 25% chance\n",
    "probability_spade = (prob_both * 11 / 50) + (prob_neither * 13 / 50) + (prob_one * 12 / 50)\n",
    "probability_spade"
   ]
  },
  {
   "cell_type": "markdown",
   "metadata": {},
   "source": [
    "### Above is using Bayes Formula:\n",
    "Often, for a given partition of S into sets F1, . . . , Fn,\n",
    "we want to know the probability that some particular case, \n",
    "Fj occurs, given that some event E occurs.\n",
    "P(Fj | E) = P(Fj and E) / P(E)\n",
    "\n",
    "Using multiplication rule rewrite numerator:\n",
    "P(Fj and E) = P(E | Fj) * P(Fj)\n",
    "\n",
    "Using law of total probability rewrite denominator:\n",
    "P(E) = sum(P(E | Fi) * P(Fi)) where i starts from 1 and goes to n\n",
    "\n",
    "This value could've also just been computed from 13/52\n",
    "My guess is this is because the probability is not conditional on the event of losing 2 cards, but I could be wrong."
   ]
  },
  {
   "cell_type": "markdown",
   "metadata": {},
   "source": [
    "### Testing out the probability with data:\n",
    "- First I'll create the deck class\n",
    "- Then create a data sample to pull cards from\n",
    "- Keep track of how many cards are actually spades"
   ]
  },
  {
   "cell_type": "code",
   "execution_count": 5,
   "metadata": {},
   "outputs": [
    {
     "data": {
      "text/plain": [
       "[[4, 'Spade'], [5, 'Heart'], ['Jack', 'Club'], [4, 'Heart'], [5, 'Club'], [10, 'Diamond'], [9, 'Spade'], ['Jack', 'Heart'], [2, 'Spade'], ['A', 'Spade'], [8, 'Heart'], [10, 'Club'], [2, 'Diamond'], [8, 'Spade'], [4, 'Club'], ['Queen', 'Diamond'], [2, 'Club'], [6, 'Club'], ['Queen', 'Club'], [7, 'Heart'], [9, 'Diamond'], [6, 'Diamond'], [3, 'Club'], [3, 'Diamond'], [9, 'Club'], [6, 'Spade'], [7, 'Diamond'], ['King', 'Diamond'], [3, 'Spade'], ['Jack', 'Diamond'], ['A', 'Diamond'], ['King', 'Spade'], ['A', 'Club'], ['A', 'Heart'], ['King', 'Club'], [10, 'Heart'], [7, 'Club'], [9, 'Heart'], [8, 'Diamond'], [8, 'Club'], ['Jack', 'Spade'], ['King', 'Heart'], [6, 'Heart'], [7, 'Spade'], ['Queen', 'Spade'], [4, 'Diamond'], [2, 'Heart'], [3, 'Heart'], ['Queen', 'Heart'], [10, 'Spade'], [5, 'Diamond'], [5, 'Spade']]"
      ]
     },
     "execution_count": 5,
     "metadata": {},
     "output_type": "execute_result"
    }
   ],
   "source": [
    "class Deck:\n",
    "    def __init__(self):\n",
    "        suits = ['Club', 'Spade', 'Diamond', 'Heart']\n",
    "        ranks = ['A'] + [rank for rank in range(2, 11)] + ['Jack'] + ['Queen'] + ['King']\n",
    "        self.deck = [[rank, suit] for rank in ranks for suit in suits]\n",
    "    \n",
    "    def __getitem__(self, i):\n",
    "        return self.deck[i]\n",
    "    \n",
    "    def __setitem__(self, i, val):\n",
    "        self.deck[i] = val\n",
    "        \n",
    "    def __repr__(self):\n",
    "        return str(self.deck)\n",
    "    \n",
    "    def __len__(self):\n",
    "        return len(self.deck)\n",
    "    \n",
    "    def __delitem__(self, idx):\n",
    "        del self.deck[idx]\n",
    "        \n",
    "    def __len__(self):\n",
    "        return len(self.deck)\n",
    "        \n",
    "    def shuffle(self):\n",
    "        random.shuffle(self.deck)\n",
    "        \n",
    "    def draw(self):\n",
    "        to_draw = self.deck[len(self.deck) - 1]\n",
    "        del self.deck[len(self.deck) - 1]\n",
    "        return to_draw\n",
    "        \n",
    "d = Deck()\n",
    "d.shuffle()\n",
    "d"
   ]
  },
  {
   "cell_type": "code",
   "execution_count": 10,
   "metadata": {},
   "outputs": [
    {
     "name": "stdout",
     "output_type": "stream",
     "text": [
      "0.248\n"
     ]
    }
   ],
   "source": [
    "list_decks = [Deck() for x in range(1000)]\n",
    "spades = 0\n",
    "for i in list_decks:\n",
    "    i.shuffle()\n",
    "    for k in range(2):\n",
    "        del i[random.randint(0, len(i) - 1)]\n",
    "    if(i.draw()[1] == 'Spade'):\n",
    "        spades += 1\n",
    "print(spades / len(list_decks))"
   ]
  },
  {
   "cell_type": "markdown",
   "metadata": {},
   "source": [
    "As we can see, the real world result is extremely close to the mathematical probability"
   ]
  },
  {
   "cell_type": "markdown",
   "metadata": {},
   "source": [
    "## Bayes Theorem Notes\n",
    "\n",
    "Bayes Theorem can be written as such:\n",
    "\n",
    "Given hypothesis, H, and event, E,\n",
    "the likelihood of H given E is:\n",
    "P(H | E) = ( P(E | H) * P(H) ) / P(E)"
   ]
  },
  {
   "cell_type": "markdown",
   "metadata": {},
   "source": [
    "1 ) Consider a test to detect a disease that 0.1 % of the population have.\n",
    "The test is 99 % effective in detecting an infected person.\n",
    "However, the test gives a false positive result in 0.5 % of cases.\n",
    "If a person tests positive for the disease what is the probability that they actually have it?"
   ]
  },
  {
   "cell_type": "code",
   "execution_count": 12,
   "metadata": {},
   "outputs": [
    {
     "data": {
      "text/plain": [
       "0.16541353383458646"
      ]
     },
     "execution_count": 12,
     "metadata": {},
     "output_type": "execute_result"
    }
   ],
   "source": [
    "# probability of having the disease\n",
    "P_disease = .001\n",
    "# probability of positive result given the person is infected\n",
    "P_posi_infected = .99\n",
    "# probability of a false positive\n",
    "P_posi_not_infected = .005 \n",
    "\n",
    "# need to find the probability of a positive test occuring to begin with:\n",
    "# use law of total probability\n",
    "# P(test positive) = P(test positive | have disease) * P(have disease) \n",
    "# + P(test positive | not having disease) * P(not having disease)\n",
    "# = .99 * .001 + .005 * (1 - .001)\n",
    "P_posi = P_posi_infected * P_disease + P_posi_not_infected * (1 - P_disease)\n",
    "# If a preson tests positive for the disease what is the probability\n",
    "# that they actually have it? i.e. P(infected | positive test)\n",
    "\n",
    "# P(infected | positive test) =\n",
    "# (P(positive test | infected) * P(infected) ) / P(positive test)\n",
    "P_actually_have = ( .99 * .001 ) / P_posi\n",
    "P_actually_have"
   ]
  },
  {
   "cell_type": "code",
   "execution_count": null,
   "metadata": {},
   "outputs": [],
   "source": [
    "# to be continued..."
   ]
  }
 ],
 "metadata": {
  "kernelspec": {
   "display_name": "Python 3",
   "language": "python",
   "name": "python3"
  },
  "language_info": {
   "codemirror_mode": {
    "name": "ipython",
    "version": 3
   },
   "file_extension": ".py",
   "mimetype": "text/x-python",
   "name": "python",
   "nbconvert_exporter": "python",
   "pygments_lexer": "ipython3",
   "version": "3.8.3"
  }
 },
 "nbformat": 4,
 "nbformat_minor": 4
}
