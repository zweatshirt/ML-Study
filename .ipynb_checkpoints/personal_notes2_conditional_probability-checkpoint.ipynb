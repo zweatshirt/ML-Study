{
 "cells": [
  {
   "cell_type": "code",
   "execution_count": 1,
   "metadata": {},
   "outputs": [],
   "source": [
    "# already learned conditional probablity\n",
    "# but wanted to reiterate\n",
    "import random\n",
    "\n",
    "# if two events depend on each other, what's the probability both will occur?\n",
    "# Equation: P(B | A) = P(A and B) / P(A)\n",
    "# i.e. probability of B given that A has occurred\n",
    "# P(A, B): probability of A and B both occurring "
   ]
  },
  {
   "cell_type": "code",
   "execution_count": 2,
   "metadata": {},
   "outputs": [],
   "source": [
    "# math question from http://www.ams.sunysb.edu/~jsbm/courses/311/conditioning.pdf\n",
    "\n",
    "# Two cards from an ordinary deck of 52 cards are missing.\n",
    "# What is the probability that a random card drawn from this deck is a spade?"
   ]
  },
  {
   "cell_type": "code",
   "execution_count": 3,
   "metadata": {},
   "outputs": [
    {
     "data": {
      "text/plain": [
       "0.25"
      ]
     },
     "execution_count": 3,
     "metadata": {},
     "output_type": "execute_result"
    }
   ],
   "source": [
    "# 3 possibilities: 1 of the missing cards is a spade, both missing cards are spades,\n",
    "# or neither are spades\n",
    "\n",
    "def factorial(n):\n",
    "    if n > 1:\n",
    "        return n * factorial(n - 1)\n",
    "    else: return n\n",
    "\n",
    "def C(n, r): # n is size of set, r is how many we are choosing\n",
    "    numerator = factorial(n)\n",
    "    denom = factorial(r) * factorial(n - r)\n",
    "    return numerator / denom\n",
    "\n",
    "two_cards_selected = C(52, 2)\n",
    "\n",
    "both_spades = C(13, 2)\n",
    "prob_both = both_spades / two_cards_selected\n",
    "\n",
    "neither_spades = C(39, 2)\n",
    "prob_neither = neither_spades / two_cards_selected\n",
    "\n",
    "one_spade_out_of_two = C(13, 1) * C(39, 1)\n",
    "prob_one = one_spade_out_of_two / two_cards_selected\n",
    "\n",
    "# we can see there's a 25% chance\n",
    "probability_spade = (prob_both * 11 / 50) + (prob_neither * 13 / 50) + (prob_one * 12 / 50)\n",
    "probability_spade\n",
    "\n",
    "# Above is using Bayes Formula:\n",
    "# Often, for a given partition of S into sets F1, . . . , Fn,\n",
    "# we want to know the probability that some particular case, \n",
    "# Fj occurs, given that some event E occurs.\n",
    "# P(Fj | E) = P(Fj and E) / P(E)\n",
    "\n",
    "# Using multiplication rule rewrite numerator:\n",
    "# P(Fj and E) = P(E | Fj) * P(Fj)\n",
    "\n",
    "# Using law of total probability rewrite denominator:\n",
    "# P(E) = sum(P(E | Fi) * P(Fi)) where i starts from 1 and goes to n"
   ]
  },
  {
   "cell_type": "code",
   "execution_count": 4,
   "metadata": {},
   "outputs": [],
   "source": [
    "# Testing out the probability with data:"
   ]
  },
  {
   "cell_type": "code",
   "execution_count": 5,
   "metadata": {},
   "outputs": [
    {
     "data": {
      "text/plain": [
       "[[2, 'Club'], [9, 'Diamond'], [8, 'Heart'], [6, 'Club'], ['A', 'Club'], [5, 'Club'], [9, 'Heart'], [8, 'Diamond'], [9, 'Spade'], ['Queen', 'Club'], ['Jack', 'Heart'], ['Jack', 'Club'], [8, 'Spade'], [10, 'Club'], [3, 'Spade'], [2, 'Diamond'], [4, 'Heart'], [2, 'Spade'], [10, 'Heart'], ['Queen', 'Heart'], ['A', 'Diamond'], ['Queen', 'Spade'], [10, 'Spade'], [5, 'Diamond'], [3, 'Club'], [8, 'Club'], [3, 'Diamond'], [3, 'Heart'], [4, 'Diamond'], [7, 'Club'], [6, 'Spade'], ['Jack', 'Diamond'], [2, 'Heart'], ['Queen', 'Diamond'], [9, 'Club'], [5, 'Spade'], [10, 'Diamond'], ['Jack', 'Spade'], ['A', 'Spade'], ['King', 'Spade'], [7, 'Spade'], ['King', 'Club'], [4, 'Spade'], [6, 'Heart'], [7, 'Heart'], ['King', 'Heart'], [6, 'Diamond'], ['A', 'Heart'], [7, 'Diamond'], ['King', 'Diamond'], [4, 'Club'], [5, 'Heart']]"
      ]
     },
     "execution_count": 5,
     "metadata": {},
     "output_type": "execute_result"
    }
   ],
   "source": [
    "# first I'll create the deck class\n",
    "class Deck:\n",
    "    def __init__(self):\n",
    "        suits = ['Club', 'Spade', 'Diamond', 'Heart']\n",
    "        ranks = ['A'] + [rank for rank in range(2, 11)] + ['Jack'] + ['Queen'] + ['King']\n",
    "        self.deck = [[rank, suit] for rank in ranks for suit in suits]\n",
    "    \n",
    "    def __getitem__(self, i):\n",
    "        return self.deck[i]\n",
    "    \n",
    "    def __setitem__(self, i, val):\n",
    "        self.deck[i] = val\n",
    "        \n",
    "    def __repr__(self):\n",
    "        return str(self.deck)\n",
    "    \n",
    "    def __len__(self):\n",
    "        return len(self.deck)\n",
    "    \n",
    "    def __delitem__(self, idx):\n",
    "        del self.deck[idx]\n",
    "        \n",
    "    def __len__(self):\n",
    "        return len(self.deck)\n",
    "        \n",
    "    def shuffle(self):\n",
    "        random.shuffle(self.deck)\n",
    "        \n",
    "    def draw(self):\n",
    "        to_draw = self.deck[len(self.deck) - 1]\n",
    "        del self.deck[len(self.deck) - 1]\n",
    "        return to_draw\n",
    "        \n",
    "d = Deck()\n",
    "d.shuffle()\n",
    "d"
   ]
  },
  {
   "cell_type": "code",
   "execution_count": 6,
   "metadata": {},
   "outputs": [
    {
     "name": "stdout",
     "output_type": "stream",
     "text": [
      "0.252\n"
     ]
    }
   ],
   "source": [
    "list_decks = [Deck() for x in range(1000)]\n",
    "spades = 0\n",
    "for i in list_decks:\n",
    "    i.shuffle()\n",
    "    for k in range(2):\n",
    "        del i[random.randint(0, len(i) - 1)]\n",
    "    if(i.draw()[1] == 'Spade'):\n",
    "        spades += 1\n",
    "print(spades / len(list_decks))"
   ]
  },
  {
   "cell_type": "code",
   "execution_count": 7,
   "metadata": {},
   "outputs": [],
   "source": [
    "# As we can see, the real world result is extremely close to the mathematical probability"
   ]
  }
 ],
 "metadata": {
  "kernelspec": {
   "display_name": "Python 3",
   "language": "python",
   "name": "python3"
  },
  "language_info": {
   "codemirror_mode": {
    "name": "ipython",
    "version": 3
   },
   "file_extension": ".py",
   "mimetype": "text/x-python",
   "name": "python",
   "nbconvert_exporter": "python",
   "pygments_lexer": "ipython3",
   "version": "3.8.3"
  }
 },
 "nbformat": 4,
 "nbformat_minor": 4
}
