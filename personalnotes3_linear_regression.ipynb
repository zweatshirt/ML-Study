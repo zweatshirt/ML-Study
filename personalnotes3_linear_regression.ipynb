{
 "cells": [
  {
   "cell_type": "markdown",
   "metadata": {},
   "source": [
    "# Linear Regression Notes"
   ]
  },
  {
   "cell_type": "markdown",
   "metadata": {},
   "source": [
    "- Fit a line to data set of observations\n",
    "- Use this line to predict unobserved values.\n",
    "\n",
    "Linear regression is usually done using least-squares technique.\n",
    "1 ) Get mean of X and mean of Y\n",
    "2 ) subtract means from every point just like in finding covariance\n",
    "3 ) Square all the values -> sum (of x vals) is run\n",
    "4 ) Find (x - mean(x))(y - mean(y)) for all values -> sum is rise\n",
    "\n",
    "y = b_0 + b_1x\n",
    "b_1 is slope\n",
    "b_0 can be computed given mean(y) = b_1 * mean(x)\n",
    "Since we know that the line has to cross point (mean(x), mean(y))\n"
   ]
  },
  {
   "cell_type": "code",
   "execution_count": 20,
   "metadata": {},
   "outputs": [
    {
     "name": "stdout",
     "output_type": "stream",
     "text": [
      "122500.27491494468\n"
     ]
    }
   ],
   "source": [
    "from random import randint\n",
    "from numpy import mean\n",
    "\n",
    "x = [randint(0, 500) for x in range(500)]\n",
    "y = [randint(0, 500) * x[y]**2 for y in range(500)]\n",
    "\n",
    "meanx = mean(x)\n",
    "meany = mean(y)\n",
    "\n",
    "rise = 0\n",
    "run = 0\n",
    "for i in range(len(x)):\n",
    "    rise += (x[i] - meanx) * (y[i] - meany)\n",
    "    run += ((x[i] - meanx) ** 2)\n",
    "print(rise / run)\n",
    "\n",
    "b_0 = meany - (rise / run) * meanx"
   ]
  },
  {
   "cell_type": "markdown",
   "metadata": {},
   "source": [
    "## Measuring error with R-squared\n",
    "- How well the line fits the data\n",
    "- i.e. coefficient of determination\n",
    "- measures fraction of the total variation in Y that is captured by the model\n",
    "- Distance from actual values to mean compared to distance of estimated values to mean\n",
    "Compute:\n",
    "1 - (sum of squared errors / sum of squared variation from the mean)\n",
    "\n",
    "i.e.\n",
    "\n",
    "( estimated value of y - mean(y) )^2 / ( actual value of y - mean(y) )^2"
   ]
  },
  {
   "cell_type": "code",
   "execution_count": 21,
   "metadata": {},
   "outputs": [
    {
     "data": {
      "text/plain": [
       "0.5083578153445024"
      ]
     },
     "execution_count": 21,
     "metadata": {},
     "output_type": "execute_result"
    }
   ],
   "source": [
    "# estimated\n",
    "y_hat = [b_0 + (rise / run) * val for val in x]\n",
    "y_hat_sub_mean_sq = [(val - meany) ** 2 for val in y_hat]\n",
    "y_actual_sub_mean_sq = [(val - meany) ** 2 for val in y]\n",
    "\n",
    "R_sq = sum(y_hat_sub_mean_sq) / sum(y_actual_sub_mean_sq)\n",
    "R_sq # uh oh, meh fit"
   ]
  },
  {
   "cell_type": "code",
   "execution_count": 23,
   "metadata": {},
   "outputs": [
    {
     "name": "stdout",
     "output_type": "stream",
     "text": [
      "0.5083578153445024\n"
     ]
    }
   ],
   "source": [
    "# 'simplifying' above:\n",
    "num = 0\n",
    "denom = 0\n",
    "for i in range(len(x)):\n",
    "    num += ((b_0 + (rise / run) * x[i]) - meany) ** 2\n",
    "    denom += (y[i] - meany)**2\n",
    "print(num / denom)"
   ]
  }
 ],
 "metadata": {
  "kernelspec": {
   "display_name": "Python 3",
   "language": "python",
   "name": "python3"
  },
  "language_info": {
   "codemirror_mode": {
    "name": "ipython",
    "version": 3
   },
   "file_extension": ".py",
   "mimetype": "text/x-python",
   "name": "python",
   "nbconvert_exporter": "python",
   "pygments_lexer": "ipython3",
   "version": "3.8.3"
  }
 },
 "nbformat": 4,
 "nbformat_minor": 4
}
